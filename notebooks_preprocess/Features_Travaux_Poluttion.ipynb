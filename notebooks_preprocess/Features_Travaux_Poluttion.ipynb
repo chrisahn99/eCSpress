{
 "cells": [
  {
   "cell_type": "code",
   "execution_count": 1,
   "id": "dffbb370",
   "metadata": {},
   "outputs": [],
   "source": [
    "import pandas as pd \n",
    "import numpy as np\n",
    "import datetime"
   ]
  },
  {
   "cell_type": "markdown",
   "id": "13c5cc04",
   "metadata": {},
   "source": [
    "# Travaux Perturbants la Circulation"
   ]
  },
  {
   "cell_type": "markdown",
   "id": "f7490b08",
   "metadata": {},
   "source": [
    "Sur le site opendata.paris nous avons trouvé un dataset qui recense les travaux perturbants la circulation.\n",
    "\n",
    "Nous récupérons les données qui concernent les axes que nous étudions pour connaitre les périodes et le niveau de perturbation de la voie."
   ]
  },
  {
   "cell_type": "code",
   "execution_count": 2,
   "id": "76f99db0",
   "metadata": {},
   "outputs": [
    {
     "name": "stderr",
     "output_type": "stream",
     "text": [
      "/var/folders/jx/28l9xggd2379trg_rfjvhlx80000gn/T/ipykernel_63742/2414427391.py:21: SettingWithCopyWarning: \n",
      "A value is trying to be set on a copy of a slice from a DataFrame.\n",
      "Try using .loc[row_indexer,col_indexer] = value instead\n",
      "\n",
      "See the caveats in the documentation: https://pandas.pydata.org/pandas-docs/stable/user_guide/indexing.html#returning-a-view-versus-a-copy\n",
      "  df[\"Niveau de perturbation\"]=df[\"Niveau de perturbation\"].replace({2.0:\"Perturbant\",1.0:\"Très perturbant\"})\n",
      "/var/folders/jx/28l9xggd2379trg_rfjvhlx80000gn/T/ipykernel_63742/2414427391.py:22: SettingWithCopyWarning: \n",
      "A value is trying to be set on a copy of a slice from a DataFrame.\n",
      "Try using .loc[row_indexer,col_indexer] = value instead\n",
      "\n",
      "See the caveats in the documentation: https://pandas.pydata.org/pandas-docs/stable/user_guide/indexing.html#returning-a-view-versus-a-copy\n",
      "  df[\"Statut\"]=df[\"Statut\"].replace({1:\"A venir\",2:\"En cours\",3:\"Suspendu\",4:\"Prolongé\",5:\"Terminé\"})\n"
     ]
    },
    {
     "data": {
      "text/html": [
       "<div>\n",
       "<style scoped>\n",
       "    .dataframe tbody tr th:only-of-type {\n",
       "        vertical-align: middle;\n",
       "    }\n",
       "\n",
       "    .dataframe tbody tr th {\n",
       "        vertical-align: top;\n",
       "    }\n",
       "\n",
       "    .dataframe thead th {\n",
       "        text-align: right;\n",
       "    }\n",
       "</style>\n",
       "<table border=\"1\" class=\"dataframe\">\n",
       "  <thead>\n",
       "    <tr style=\"text-align: right;\">\n",
       "      <th></th>\n",
       "      <th>Voie</th>\n",
       "      <th>Précisions de localisation</th>\n",
       "      <th>Date de début</th>\n",
       "      <th>Date de fin</th>\n",
       "      <th>Impact sur la circulation</th>\n",
       "      <th>Détail de l'impact sur la circulation</th>\n",
       "      <th>Niveau de perturbation</th>\n",
       "      <th>Statut</th>\n",
       "    </tr>\n",
       "  </thead>\n",
       "  <tbody>\n",
       "    <tr>\n",
       "      <th>33</th>\n",
       "      <td>Rue de la Convention</td>\n",
       "      <td>Au N°181</td>\n",
       "      <td>2022-07-04</td>\n",
       "      <td>2023-05-12</td>\n",
       "      <td>RESTREINTE</td>\n",
       "      <td>Maintien de 3,20m dans chaque sens.</td>\n",
       "      <td>Très perturbant</td>\n",
       "      <td>En cours</td>\n",
       "    </tr>\n",
       "    <tr>\n",
       "      <th>41</th>\n",
       "      <td>Avenue des Champs Elysées</td>\n",
       "      <td>De la place de l'étoile à la place Clémenceau ...</td>\n",
       "      <td>2022-11-03</td>\n",
       "      <td>2023-02-24</td>\n",
       "      <td>RESTREINTE</td>\n",
       "      <td>Suppression d'une file de circulation de chaqu...</td>\n",
       "      <td>Perturbant</td>\n",
       "      <td>En cours</td>\n",
       "    </tr>\n",
       "    <tr>\n",
       "      <th>44</th>\n",
       "      <td>40 rue des Sts-Pères</td>\n",
       "      <td>juste avant le bd St Germain</td>\n",
       "      <td>2021-07-12</td>\n",
       "      <td>2022-12-31</td>\n",
       "      <td>RESTREINTE</td>\n",
       "      <td>Maintien d'une file de circulation.</td>\n",
       "      <td>Perturbant</td>\n",
       "      <td>En cours</td>\n",
       "    </tr>\n",
       "    <tr>\n",
       "      <th>79</th>\n",
       "      <td>Avenue des Champs Elysées</td>\n",
       "      <td>Au n°23 sur une partie du trottoir</td>\n",
       "      <td>2022-06-13</td>\n",
       "      <td>2023-12-01</td>\n",
       "      <td>RESTREINTE</td>\n",
       "      <td>Circulation piétonnes impactée avec entrées - ...</td>\n",
       "      <td>Perturbant</td>\n",
       "      <td>En cours</td>\n",
       "    </tr>\n",
       "  </tbody>\n",
       "</table>\n",
       "</div>"
      ],
      "text/plain": [
       "                         Voie  \\\n",
       "33       Rue de la Convention   \n",
       "41  Avenue des Champs Elysées   \n",
       "44       40 rue des Sts-Pères   \n",
       "79  Avenue des Champs Elysées   \n",
       "\n",
       "                           Précisions de localisation Date de début  \\\n",
       "33                                           Au N°181    2022-07-04   \n",
       "41  De la place de l'étoile à la place Clémenceau ...    2022-11-03   \n",
       "44                       juste avant le bd St Germain    2021-07-12   \n",
       "79                 Au n°23 sur une partie du trottoir    2022-06-13   \n",
       "\n",
       "   Date de fin Impact sur la circulation  \\\n",
       "33  2023-05-12                RESTREINTE   \n",
       "41  2023-02-24                RESTREINTE   \n",
       "44  2022-12-31                RESTREINTE   \n",
       "79  2023-12-01                RESTREINTE   \n",
       "\n",
       "                Détail de l'impact sur la circulation Niveau de perturbation  \\\n",
       "33                Maintien de 3,20m dans chaque sens.        Très perturbant   \n",
       "41  Suppression d'une file de circulation de chaqu...             Perturbant   \n",
       "44                Maintien d'une file de circulation.             Perturbant   \n",
       "79  Circulation piétonnes impactée avec entrées - ...             Perturbant   \n",
       "\n",
       "      Statut  \n",
       "33  En cours  \n",
       "41  En cours  \n",
       "44  En cours  \n",
       "79  En cours  "
      ]
     },
     "execution_count": 2,
     "metadata": {},
     "output_type": "execute_result"
    }
   ],
   "source": [
    "# https://opendata.paris.fr/explore/dataset/chantiers-perturbants/information/?disjunctive.cp_arrondissement&disjunctive.maitre_ouvrage&disjunctive.objet&disjunctive.impact_circulation&disjunctive.niveau_perturbation&disjunctive.statut\n",
    "\n",
    "travaux_circulation=pd.read_csv(\"/Users/daniel/Downloads/chantiers-perturbants.csv\",sep=';')\n",
    "travaux_circulation=travaux_circulation.rename(columns={\"Voie(s)\":\"Voie\"})\n",
    "interest=[]\n",
    "\n",
    "# sélectionner les axes qui nous intéressent\n",
    "for i in travaux_circulation[\"Voie\"].unique():\n",
    "    if(type(i) is str):\n",
    "        if(\"Champs Elysées\" in i):\n",
    "            interest.append(i) \n",
    "        if(\"Convention\" in i):\n",
    "            interest.append(i) \n",
    "        if(\"Sts-Pères\" in i):\n",
    "            interest.append(i) \n",
    "\n",
    "travaux_circulation=travaux_circulation[pd.DataFrame(travaux_circulation.Voie.tolist()).isin(interest).any(1).values]\n",
    "\n",
    "# drop des colonnes inutiles\n",
    "df=travaux_circulation[[\"Voie\",\"Précisions de localisation\",\"Date de début\",\"Date de fin\",\"Impact sur la circulation\",\"Détail de l'impact sur la circulation\",\"Niveau de perturbation\",\"Statut\"]]\n",
    "df[\"Niveau de perturbation\"]=df[\"Niveau de perturbation\"].replace({2.0:\"Perturbant\",1.0:\"Très perturbant\"})\n",
    "df[\"Statut\"]=df[\"Statut\"].replace({1:\"A venir\",2:\"En cours\",3:\"Suspendu\",4:\"Prolongé\",5:\"Terminé\"})\n",
    "# export csv\n",
    "df.to_csv(\"chantiers_perturbants_clean.csv\")\n",
    "df.head()"
   ]
  },
  {
   "cell_type": "markdown",
   "id": "e2af7bad",
   "metadata": {},
   "source": [
    "# Paris Respire"
   ]
  },
  {
   "cell_type": "markdown",
   "id": "7ef62bc5",
   "metadata": {},
   "source": [
    "Le premier dimanche de chaque mois, l'avenue des champs elysées et piétonnisée\n",
    "\n",
    "Paris respire prend effet entre 11h et 18h entre avril et octobre et entre 10h et 17h entre novembre et mars"
   ]
  },
  {
   "cell_type": "code",
   "execution_count": 3,
   "id": "3188cf3e",
   "metadata": {},
   "outputs": [
    {
     "data": {
      "text/html": [
       "<div>\n",
       "<style scoped>\n",
       "    .dataframe tbody tr th:only-of-type {\n",
       "        vertical-align: middle;\n",
       "    }\n",
       "\n",
       "    .dataframe tbody tr th {\n",
       "        vertical-align: top;\n",
       "    }\n",
       "\n",
       "    .dataframe thead th {\n",
       "        text-align: right;\n",
       "    }\n",
       "</style>\n",
       "<table border=\"1\" class=\"dataframe\">\n",
       "  <thead>\n",
       "    <tr style=\"text-align: right;\">\n",
       "      <th></th>\n",
       "      <th>date</th>\n",
       "      <th>paris_repsire</th>\n",
       "    </tr>\n",
       "  </thead>\n",
       "  <tbody>\n",
       "    <tr>\n",
       "      <th>0</th>\n",
       "      <td>2021-01-03 10:00:00</td>\n",
       "      <td>True</td>\n",
       "    </tr>\n",
       "    <tr>\n",
       "      <th>1</th>\n",
       "      <td>2021-01-03 11:00:00</td>\n",
       "      <td>True</td>\n",
       "    </tr>\n",
       "    <tr>\n",
       "      <th>2</th>\n",
       "      <td>2021-01-03 12:00:00</td>\n",
       "      <td>True</td>\n",
       "    </tr>\n",
       "    <tr>\n",
       "      <th>3</th>\n",
       "      <td>2021-01-03 13:00:00</td>\n",
       "      <td>True</td>\n",
       "    </tr>\n",
       "    <tr>\n",
       "      <th>4</th>\n",
       "      <td>2021-01-03 14:00:00</td>\n",
       "      <td>True</td>\n",
       "    </tr>\n",
       "  </tbody>\n",
       "</table>\n",
       "</div>"
      ],
      "text/plain": [
       "                 date paris_repsire\n",
       "0 2021-01-03 10:00:00          True\n",
       "1 2021-01-03 11:00:00          True\n",
       "2 2021-01-03 12:00:00          True\n",
       "3 2021-01-03 13:00:00          True\n",
       "4 2021-01-03 14:00:00          True"
      ]
     },
     "execution_count": 3,
     "metadata": {},
     "output_type": "execute_result"
    }
   ],
   "source": [
    "import datetime\n",
    "import numpy as np\n",
    "import pandas as pd\n",
    "\n",
    "paris_respire=pd.DataFrame(columns=[\"date\",\"paris_repsire\"])\n",
    "\n",
    "list_first_sunday=[]\n",
    "#premiers dimanches de chaque mois\n",
    "for year in [2021,2022]:\n",
    "        for month in [\"%.2d\" % i for i in range(1,13)]:\n",
    "            list_first_sunday.append(np.busday_offset(\"{y}-{m}\".format(y=year,m=month), 0, roll='forward', weekmask='Sun'))\n",
    "\n",
    "dates = pd.DatetimeIndex(list_first_sunday)\n",
    "\n",
    "#horaires (10-17 ou 11-18)\n",
    "for s in dates:     \n",
    "    if s.month <=8 and s.month >=4:\n",
    "        for h in range(11,18):\n",
    "            l=[s.replace(hour=h),True]\n",
    "            paris_respire.loc[len(paris_respire)] = l\n",
    "    else:\n",
    "        for h in range(10,17):\n",
    "            l=[s.replace(hour=h),True]\n",
    "            paris_respire.loc[len(paris_respire)] = l\n",
    "\n",
    "paris_respire.to_csv(\"paris_respire.csv\")\n",
    "\n",
    "paris_respire.head()\n"
   ]
  },
  {
   "cell_type": "markdown",
   "id": "13c53c7c",
   "metadata": {},
   "source": [
    "# Pics de pollution"
   ]
  },
  {
   "cell_type": "markdown",
   "id": "809bcd62",
   "metadata": {},
   "source": [
    "Il n'y a pas eu de modifications de réglementation concernant les vignettes critair au cours de la période que nous étudions."
   ]
  }
 ],
 "metadata": {
  "kernelspec": {
   "display_name": "Python 3.8.15 64-bit ('datathon')",
   "language": "python",
   "name": "python3"
  },
  "language_info": {
   "codemirror_mode": {
    "name": "ipython",
    "version": 3
   },
   "file_extension": ".py",
   "mimetype": "text/x-python",
   "name": "python",
   "nbconvert_exporter": "python",
   "pygments_lexer": "ipython3",
   "version": "3.8.15"
  },
  "vscode": {
   "interpreter": {
    "hash": "a1226965e1c2cab2f61526a80b84f22d9ebc295bda86e5222e8deabf76b2a48d"
   }
  }
 },
 "nbformat": 4,
 "nbformat_minor": 5
}
